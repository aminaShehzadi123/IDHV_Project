{
  "nbformat": 4,
  "nbformat_minor": 0,
  "metadata": {
    "colab": {
      "provenance": [],
      "authorship_tag": "ABX9TyOYIX5rkt5Mje9lo59LznNl",
      "include_colab_link": true
    },
    "kernelspec": {
      "name": "python3",
      "display_name": "Python 3"
    },
    "language_info": {
      "name": "python"
    }
  },
  "cells": [
    {
      "cell_type": "markdown",
      "metadata": {
        "id": "view-in-github",
        "colab_type": "text"
      },
      "source": [
        "<a href=\"https://colab.research.google.com/github/aminaShehzadi123/IDHV_Project/blob/main/Googlesheets_to_colab.ipynb\" target=\"_parent\"><img src=\"https://colab.research.google.com/assets/colab-badge.svg\" alt=\"Open In Colab\"/></a>"
      ]
    },
    {
      "cell_type": "code",
      "execution_count": 2,
      "metadata": {
        "colab": {
          "base_uri": "https://localhost:8080/"
        },
        "id": "DLVwInH9FeTt",
        "outputId": "43fbb7ca-4471-43b5-e6c2-c892cbea8be2"
      },
      "outputs": [
        {
          "output_type": "stream",
          "name": "stdout",
          "text": [
            "   Min-Latitude  Min-Longitude  Max-Latitude  Max-Longitude\n",
            "0          32.9           42.6            76             54\n"
          ]
        }
      ],
      "source": [
        "import pandas as pd\n",
        "\n",
        "# Step 1: Read Google Sheet as CSV\n",
        "sheet_url = \"https://docs.google.com/spreadsheets/d/1wsTsYSwjbUXr1uU2PrGkpIO32NZC1eQkHJUjSIP60NA/export?format=csv&gid=0\"\n",
        "df = pd.read_csv(sheet_url)\n",
        "\n",
        "# Step 2: Select only the coordinate columns\n",
        "coords_df = df[['Min-Latitude', 'Min-Longitude', 'Max-Latitude', 'Max-Longitude']]\n",
        "\n",
        "# Step 3: Save the selected coordinates to a new CSV file\n",
        "coords_df.to_csv('coordinates.csv', index=False)\n",
        "\n",
        "# Optional: Display the first few rows\n",
        "print(coords_df.head())\n"
      ]
    },
    {
      "cell_type": "code",
      "source": [
        "!git clone https://github.com/pantso251/act-digital-soil-health\n",
        "\n",
        "\n"
      ],
      "metadata": {
        "colab": {
          "base_uri": "https://localhost:8080/"
        },
        "id": "o2K5YMSMJ4k7",
        "outputId": "c61e342d-438c-4bbe-f07f-eaf6d2a38b4c"
      },
      "execution_count": 8,
      "outputs": [
        {
          "output_type": "stream",
          "name": "stdout",
          "text": [
            "Cloning into 'act-digital-soil-health'...\n",
            "fatal: could not read Username for 'https://github.com': No such device or address\n"
          ]
        }
      ]
    }
  ]
}